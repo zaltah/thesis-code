{
 "cells": [
  {
   "cell_type": "code",
   "execution_count": 3,
   "id": "2af278b9-5f5d-4545-b47e-7b600fc13e9b",
   "metadata": {},
   "outputs": [],
   "source": [
    "import pandas as pd\n",
    "from tqdm import tqdm\n",
    "tqdm.pandas()\n",
    "from keybert import KeyBERT"
   ]
  },
  {
   "cell_type": "code",
   "execution_count": 4,
   "id": "31451f7d-59fa-43e9-b8a8-74c7d4b76719",
   "metadata": {},
   "outputs": [],
   "source": [
    "df = pd.read_csv('data/Cleaned_Patents.csv')"
   ]
  },
  {
   "cell_type": "code",
   "execution_count": 5,
   "id": "b3cd5aba-fec7-4bea-bedf-9011bdbc9805",
   "metadata": {},
   "outputs": [],
   "source": [
    "df['Combined_Text'] = df['Title'].str.lower().str.capitalize() + '. ' + df['Abstract']"
   ]
  },
  {
   "cell_type": "code",
   "execution_count": 6,
   "id": "73bb2539-5a3e-4f88-b1c7-cfa6d2777532",
   "metadata": {},
   "outputs": [],
   "source": [
    "kw_model = KeyBERT()"
   ]
  },
  {
   "cell_type": "code",
   "execution_count": 7,
   "id": "e6fdd4a6-d408-45c7-8b85-c65f97bbee84",
   "metadata": {},
   "outputs": [],
   "source": [
    "keywords_per_year = []"
   ]
  },
  {
   "cell_type": "code",
   "execution_count": 8,
   "id": "79ca0913-3ecc-42b2-bb8c-efdc5a6a1c7d",
   "metadata": {},
   "outputs": [],
   "source": [
    "df_cleaned = df.dropna(subset=['Combined_Text'])"
   ]
  },
  {
   "cell_type": "code",
   "execution_count": 11,
   "id": "2d5d29f5-57fb-4193-9cf4-3ec646bc8ad3",
   "metadata": {},
   "outputs": [],
   "source": [
    "grouped = df_cleaned.groupby(by='PubYear')"
   ]
  },
  {
   "cell_type": "code",
   "execution_count": 17,
   "id": "c977beaa-6e5f-4324-b91d-24002ca578cd",
   "metadata": {},
   "outputs": [
    {
     "name": "stderr",
     "output_type": "stream",
     "text": [
      "  0%|                                                                                           | 0/34 [01:23<?, ?it/s]\n"
     ]
    }
   ],
   "source": [
    "keywords_per_year = []\n",
    "for _,group in tqdm(grouped):\n",
    "    documents = group['Combined_Text'].tolist()\n",
    "    keywords = kw_model.extract_keywords(documents) #really slow\n",
    "\n",
    "    #keywords = kw_model.extract_keywords(documents, keyphrase_ngram_range=(1, 2)) #optionally extract with bigrams\n",
    "    keywords_per_year.append(keywords)"
   ]
  },
  {
   "cell_type": "code",
   "execution_count": 21,
   "id": "fc3c7e1e-888f-4377-a36f-8405f36b9eae",
   "metadata": {},
   "outputs": [
    {
     "name": "stderr",
     "output_type": "stream",
     "text": [
      "100%|███████████████████████████████████████████████████████████████████████████████████| 1/1 [00:00<00:00, 500.27it/s]\n"
     ]
    }
   ],
   "source": [
    "bert_words = []\n",
    "bert_values = []\n",
    "for i in tqdm(keywords_per_year):\n",
    "    for j in i:\n",
    "        words = []\n",
    "        values = []\n",
    "        for ii in j:\n",
    "            words.append(ii[0])\n",
    "            values.append(ii[1])\n",
    "        bert_words.append(words)\n",
    "        bert_values.append(values)"
   ]
  },
  {
   "cell_type": "code",
   "execution_count": null,
   "id": "4c0f2b0e-14e8-4518-a6e0-fc5828e9cad1",
   "metadata": {},
   "outputs": [],
   "source": [
    "df_cleaned['BERT_Tokens'] = bert_words\n",
    "df_cleaned['BERT_Values'] = bert_values"
   ]
  },
  {
   "cell_type": "code",
   "execution_count": null,
   "id": "93a30d17-b45f-4958-a46b-fa4f2d30f333",
   "metadata": {},
   "outputs": [],
   "source": [
    "df_cleaned.to_csv('data/bert_tokens.csv',index=False)"
   ]
  }
 ],
 "metadata": {
  "kernelspec": {
   "display_name": "Python 3 (ipykernel)",
   "language": "python",
   "name": "python3"
  },
  "language_info": {
   "codemirror_mode": {
    "name": "ipython",
    "version": 3
   },
   "file_extension": ".py",
   "mimetype": "text/x-python",
   "name": "python",
   "nbconvert_exporter": "python",
   "pygments_lexer": "ipython3",
   "version": "3.12.2"
  }
 },
 "nbformat": 4,
 "nbformat_minor": 5
}
