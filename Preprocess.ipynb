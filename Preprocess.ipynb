{
 "cells": [
  {
   "cell_type": "code",
   "execution_count": 1,
   "id": "90766334-18ab-4e0b-98cc-b436e9cb0e2f",
   "metadata": {},
   "outputs": [
    {
     "name": "stderr",
     "output_type": "stream",
     "text": [
      "C:\\Users\\Markus\\AppData\\Local\\Temp\\ipykernel_33448\\3723132274.py:4: DeprecationWarning: \n",
      "Pyarrow will become a required dependency of pandas in the next major release of pandas (pandas 3.0),\n",
      "(to allow more performant data types, such as the Arrow string type, and better interoperability with other libraries)\n",
      "but was not found to be installed on your system.\n",
      "If this would cause problems for you,\n",
      "please provide us feedback at https://github.com/pandas-dev/pandas/issues/54466\n",
      "        \n",
      "  import pandas as pd\n"
     ]
    }
   ],
   "source": [
    "import re\n",
    "import spacy\n",
    "import numpy as np\n",
    "import pandas as pd\n",
    "from collections import Counter\n",
    "from tqdm import tqdm\n",
    "from itertools import chain\n",
    "from ast import literal_eval\n",
    "from tqdm.notebook import tqdm\n",
    "import multiprocessing\n",
    "tqdm.pandas()"
   ]
  },
  {
   "cell_type": "code",
   "execution_count": 2,
   "id": "032d7992-a707-4065-a1c0-e1d6f775c961",
   "metadata": {},
   "outputs": [],
   "source": [
    "df = pd.read_csv('data/patents.csv')"
   ]
  },
  {
   "cell_type": "code",
   "execution_count": 3,
   "id": "0a118cbd-8c02-45c3-a99e-da57eadbd322",
   "metadata": {},
   "outputs": [],
   "source": [
    "#cleans the HTML tags\n",
    "def filter_tags(text):\n",
    "    return re.sub(r'<.*?>', '', text)"
   ]
  },
  {
   "cell_type": "code",
   "execution_count": 4,
   "id": "4c290e85-125c-4dea-ae32-f48d359f31bc",
   "metadata": {},
   "outputs": [],
   "source": [
    "df['Abstract'] = df['Abstract'].apply(filter_tags)\n",
    "df['CombinedText'] = (df['Title'] + '. ' + df['Abstract']).str.lower()"
   ]
  },
  {
   "cell_type": "markdown",
   "id": "3333040c-0721-4189-9540-824615b89a2d",
   "metadata": {},
   "source": [
    "# Lemmatization\n",
    "\n",
    "Multiprocessing to make the task faster"
   ]
  },
  {
   "cell_type": "code",
   "execution_count": 5,
   "id": "6dd10871-a892-43af-81dc-7d8e93bbcf32",
   "metadata": {},
   "outputs": [],
   "source": [
    "core_count = max(multiprocessing.cpu_count() -2,1)\n",
    "nlp = spacy.load(\"en_core_web_sm\") #Can use other spacy models for lemmatization"
   ]
  },
  {
   "cell_type": "code",
   "execution_count": 6,
   "id": "e0781e2a-0d32-4a8c-b73d-1cf7172303bb",
   "metadata": {},
   "outputs": [],
   "source": [
    "def lemmatize_text(text, nlp):\n",
    "    doc = nlp(text)\n",
    "    lemmas = [token.lemma_ for token in doc]\n",
    "    return ' '.join(lemmas)"
   ]
  },
  {
   "cell_type": "code",
   "execution_count": 7,
   "id": "ccde1514-de2c-447c-a084-4c381170fe94",
   "metadata": {
    "scrolled": true
   },
   "outputs": [
    {
     "data": {
      "application/vnd.jupyter.widget-view+json": {
       "model_id": "b1fa79be87d54565ac8a3f0a6761fa89",
       "version_major": 2,
       "version_minor": 0
      },
      "text/plain": [
       "  0%|          | 0/578401 [00:00<?, ?it/s]"
      ]
     },
     "metadata": {},
     "output_type": "display_data"
    }
   ],
   "source": [
    "patents = df['CombinedText']\n",
    "lemmatized_patents = []\n",
    "for patent in tqdm(nlp.pipe(patents, n_process = core_count,batch_size = 64),total=len(patents)):\n",
    "    lemmatized_patents.append([tok.lemma_ for tok in patent])"
   ]
  },
  {
   "cell_type": "markdown",
   "id": "512acee3-86ca-44fe-b72c-6b28a8bfa94d",
   "metadata": {},
   "source": [
    "# Clean Tokens"
   ]
  },
  {
   "cell_type": "code",
   "execution_count": 11,
   "id": "2ed6d731-032f-4856-abe9-e21b31bd1a0e",
   "metadata": {},
   "outputs": [],
   "source": [
    "from spacy.lang.en.stop_words import STOP_WORDS\n",
    "stop_words = set(STOP_WORDS)"
   ]
  },
  {
   "cell_type": "code",
   "execution_count": 12,
   "id": "16e31dd5-311c-40b8-af03-2c365a311bb4",
   "metadata": {},
   "outputs": [],
   "source": [
    "def clean_tokens(tokens):\n",
    "    two_char = ['ai', 'ip', 'it', 'pc', 'io', 'ar', 'vr', 'ml', 'qc', 'rf', 'ux', 'ui']\n",
    "    filtered_tokens = [word for word in tokens if word not in stop_words and word != \"-\" and re.match(r'[a-zA-Z-]+$', word)]\n",
    "    filtered_tokens = [word for word in filtered_tokens if len(word) != 1 and (len(word) > 2 or word in two_char)]\n",
    "    return filtered_tokens\n",
    "\n",
    "#there are tokens such as ml- where we only care about the ml part\n",
    "#hyphenated words are also split into two\n",
    "def split_hyphenated_tokens(tokens):\n",
    "    processed_tokens = []\n",
    "    for token in tokens:\n",
    "        if \"-\" in token:\n",
    "            split_parts = token.split(\"-\")\n",
    "            processed_tokens.extend([part for part in split_parts if part])\n",
    "        else:\n",
    "            processed_tokens.append(token)\n",
    "    return processed_tokens"
   ]
  },
  {
   "cell_type": "code",
   "execution_count": 13,
   "id": "3a25990d-eb49-4c71-9fad-2fb73e452e30",
   "metadata": {},
   "outputs": [
    {
     "data": {
      "text/plain": [
       "['word', 'word2', 'tech', 'data', 'Io', 'word']"
      ]
     },
     "execution_count": 13,
     "metadata": {},
     "output_type": "execute_result"
    }
   ],
   "source": [
    "test = [\"word-word2\", \"tech-\", \"-data\", \"Io\", \"word\"]\n",
    "split_hyphenated_tokens(test)"
   ]
  },
  {
   "cell_type": "code",
   "execution_count": 14,
   "id": "dac50573-ddf2-4066-9290-317937ea1bb3",
   "metadata": {},
   "outputs": [],
   "source": [
    "dehyphenated_tokens = [split_hyphenated_tokens(tokens) for tokens in lemmatized_patents]"
   ]
  },
  {
   "cell_type": "code",
   "execution_count": 15,
   "id": "5003e8a6-c5a3-4d6a-b515-3380afa84a42",
   "metadata": {},
   "outputs": [],
   "source": [
    "cleaned_tokens = [clean_tokens(tokens) for tokens in dehyphenated_tokens]"
   ]
  },
  {
   "cell_type": "code",
   "execution_count": 16,
   "id": "867bf5df-efec-495f-89b3-16fa8b0b2d62",
   "metadata": {},
   "outputs": [],
   "source": [
    "#remove keywords that only occur n times\n",
    "min_threshold = 2\n",
    "counts = Counter(list(chain.from_iterable(cleaned_tokens)))\n",
    "filtered_counts = {token: count for token, count in counts.items() if count < min_threshold}\n",
    "tokens_to_remove = set(filtered_counts.keys())"
   ]
  },
  {
   "cell_type": "code",
   "execution_count": 17,
   "id": "e1954560-a0af-4c6c-92aa-3ee1001502b2",
   "metadata": {},
   "outputs": [],
   "source": [
    "def remove_low(tokens):\n",
    "    return [word for word in tokens if not(word in tokens_to_remove)]"
   ]
  },
  {
   "cell_type": "code",
   "execution_count": 18,
   "id": "d65b34cd-ac58-40dc-bc94-91e296f77357",
   "metadata": {},
   "outputs": [],
   "source": [
    "no_low_tokens = [remove_low(tokens) for tokens in cleaned_tokens]\n",
    "df['LemmatizedTokens'] = no_low_tokens"
   ]
  },
  {
   "cell_type": "code",
   "execution_count": 19,
   "id": "f5862fe2-d9ee-46c1-be1d-80adecca235b",
   "metadata": {},
   "outputs": [
    {
     "data": {
      "text/html": [
       "<div>\n",
       "<style scoped>\n",
       "    .dataframe tbody tr th:only-of-type {\n",
       "        vertical-align: middle;\n",
       "    }\n",
       "\n",
       "    .dataframe tbody tr th {\n",
       "        vertical-align: top;\n",
       "    }\n",
       "\n",
       "    .dataframe thead th {\n",
       "        text-align: right;\n",
       "    }\n",
       "</style>\n",
       "<table border=\"1\" class=\"dataframe\">\n",
       "  <thead>\n",
       "    <tr style=\"text-align: right;\">\n",
       "      <th></th>\n",
       "      <th>PatentNumber</th>\n",
       "      <th>EarliestPubDate</th>\n",
       "      <th>Title</th>\n",
       "      <th>Abstract</th>\n",
       "      <th>PubYear</th>\n",
       "      <th>CombinedText</th>\n",
       "      <th>LemmatizedTokens</th>\n",
       "    </tr>\n",
       "  </thead>\n",
       "  <tbody>\n",
       "    <tr>\n",
       "      <th>0</th>\n",
       "      <td>TW126293 B</td>\n",
       "      <td>19900101</td>\n",
       "      <td>With expert system for process control capabil...</td>\n",
       "      <td>With the rules of an expert system, which is d...</td>\n",
       "      <td>1990</td>\n",
       "      <td>with expert system for process control capabil...</td>\n",
       "      <td>[expert, system, process, control, capability,...</td>\n",
       "    </tr>\n",
       "    <tr>\n",
       "      <th>1</th>\n",
       "      <td>US4891782 A</td>\n",
       "      <td>19900102</td>\n",
       "      <td>PARALLEL NEURAL NETWORK FOR A FULL BINARY ADDER</td>\n",
       "      <td>A method for performing the addition of two N-...</td>\n",
       "      <td>1990</td>\n",
       "      <td>parallel neural network for a full binary adde...</td>\n",
       "      <td>[parallel, neural, network, binary, adder, met...</td>\n",
       "    </tr>\n",
       "    <tr>\n",
       "      <th>2</th>\n",
       "      <td>US4891762 A</td>\n",
       "      <td>19900102</td>\n",
       "      <td>METHOD AND APPARATUS FOR TRACKING, MAPPING AND...</td>\n",
       "      <td>A method and apparatus for the identification ...</td>\n",
       "      <td>1990</td>\n",
       "      <td>method and apparatus for tracking, mapping and...</td>\n",
       "      <td>[method, apparatus, tracking, mapping, recogni...</td>\n",
       "    </tr>\n",
       "    <tr>\n",
       "      <th>3</th>\n",
       "      <td>US5004932 A</td>\n",
       "      <td>19900103</td>\n",
       "      <td>UNIT CIRCUIT FOR CONSTRUCTING A NEURAL NETWORK...</td>\n",
       "      <td>A semiconductor integrated circuit for constru...</td>\n",
       "      <td>1990</td>\n",
       "      <td>unit circuit for constructing a neural network...</td>\n",
       "      <td>[unit, circuit, construct, neural, network, se...</td>\n",
       "    </tr>\n",
       "    <tr>\n",
       "      <th>4</th>\n",
       "      <td>US5058168 A</td>\n",
       "      <td>19900103</td>\n",
       "      <td>OVERFLOW SPEECH DETECTING APPARATUS FOR SPEECH...</td>\n",
       "      <td>Time-serial pattern data of feature parameters...</td>\n",
       "      <td>1990</td>\n",
       "      <td>overflow speech detecting apparatus for speech...</td>\n",
       "      <td>[overflow, speech, detect, apparatus, speech, ...</td>\n",
       "    </tr>\n",
       "    <tr>\n",
       "      <th>...</th>\n",
       "      <td>...</td>\n",
       "      <td>...</td>\n",
       "      <td>...</td>\n",
       "      <td>...</td>\n",
       "      <td>...</td>\n",
       "      <td>...</td>\n",
       "      <td>...</td>\n",
       "    </tr>\n",
       "    <tr>\n",
       "      <th>578396</th>\n",
       "      <td>SE2250815A1</td>\n",
       "      <td>20231231</td>\n",
       "      <td>A SYSTEM AND METHOD FOR FIRE DETECTION</td>\n",
       "      <td>The present disclosure relates to a system (10...</td>\n",
       "      <td>2023</td>\n",
       "      <td>a system and method for fire detection. the pr...</td>\n",
       "      <td>[system, method, fire, detection, present, dis...</td>\n",
       "    </tr>\n",
       "    <tr>\n",
       "      <th>578397</th>\n",
       "      <td>DZ12209A</td>\n",
       "      <td>20231231</td>\n",
       "      <td>AN INTELLIGENT ELECTRONIC SYSTEM TO FIGHT AGAI...</td>\n",
       "      <td>Bird damage can be a serious problem for grain...</td>\n",
       "      <td>2023</td>\n",
       "      <td>an intelligent electronic system to fight agai...</td>\n",
       "      <td>[intelligent, electronic, system, fight, bird,...</td>\n",
       "    </tr>\n",
       "    <tr>\n",
       "      <th>578398</th>\n",
       "      <td>BA233551A</td>\n",
       "      <td>20231231</td>\n",
       "      <td>RAILWAY TRAIN EQUIPMENT FOR OBJECT DETECTION A...</td>\n",
       "      <td>The device of a railway train for the detectio...</td>\n",
       "      <td>2023</td>\n",
       "      <td>railway train equipment for object detection a...</td>\n",
       "      <td>[railway, train, equipment, object, detection,...</td>\n",
       "    </tr>\n",
       "    <tr>\n",
       "      <th>578399</th>\n",
       "      <td>IR110375B</td>\n",
       "      <td>20231231</td>\n",
       "      <td>INTELLIGENT WATER AND FLUID CONSUMPTION CONTRO...</td>\n",
       "      <td>The intelligent water and fluid consumption co...</td>\n",
       "      <td>2023</td>\n",
       "      <td>intelligent water and fluid consumption contro...</td>\n",
       "      <td>[intelligent, water, fluid, consumption, contr...</td>\n",
       "    </tr>\n",
       "    <tr>\n",
       "      <th>578400</th>\n",
       "      <td>DZ12054A</td>\n",
       "      <td>20231231</td>\n",
       "      <td>AN INTELLIGENT AND AUTONOMOUS PIVOT FOR FERTIG...</td>\n",
       "      <td>The present invention relates to an intelligen...</td>\n",
       "      <td>2023</td>\n",
       "      <td>an intelligent and autonomous pivot for fertig...</td>\n",
       "      <td>[intelligent, autonomous, pivot, fertigation, ...</td>\n",
       "    </tr>\n",
       "  </tbody>\n",
       "</table>\n",
       "<p>578401 rows × 7 columns</p>\n",
       "</div>"
      ],
      "text/plain": [
       "       PatentNumber  EarliestPubDate  \\\n",
       "0        TW126293 B         19900101   \n",
       "1       US4891782 A         19900102   \n",
       "2       US4891762 A         19900102   \n",
       "3       US5004932 A         19900103   \n",
       "4       US5058168 A         19900103   \n",
       "...             ...              ...   \n",
       "578396  SE2250815A1         20231231   \n",
       "578397     DZ12209A         20231231   \n",
       "578398    BA233551A         20231231   \n",
       "578399    IR110375B         20231231   \n",
       "578400     DZ12054A         20231231   \n",
       "\n",
       "                                                    Title  \\\n",
       "0       With expert system for process control capabil...   \n",
       "1         PARALLEL NEURAL NETWORK FOR A FULL BINARY ADDER   \n",
       "2       METHOD AND APPARATUS FOR TRACKING, MAPPING AND...   \n",
       "3       UNIT CIRCUIT FOR CONSTRUCTING A NEURAL NETWORK...   \n",
       "4       OVERFLOW SPEECH DETECTING APPARATUS FOR SPEECH...   \n",
       "...                                                   ...   \n",
       "578396             A SYSTEM AND METHOD FOR FIRE DETECTION   \n",
       "578397  AN INTELLIGENT ELECTRONIC SYSTEM TO FIGHT AGAI...   \n",
       "578398  RAILWAY TRAIN EQUIPMENT FOR OBJECT DETECTION A...   \n",
       "578399  INTELLIGENT WATER AND FLUID CONSUMPTION CONTRO...   \n",
       "578400  AN INTELLIGENT AND AUTONOMOUS PIVOT FOR FERTIG...   \n",
       "\n",
       "                                                 Abstract  PubYear  \\\n",
       "0       With the rules of an expert system, which is d...     1990   \n",
       "1       A method for performing the addition of two N-...     1990   \n",
       "2       A method and apparatus for the identification ...     1990   \n",
       "3       A semiconductor integrated circuit for constru...     1990   \n",
       "4       Time-serial pattern data of feature parameters...     1990   \n",
       "...                                                   ...      ...   \n",
       "578396  The present disclosure relates to a system (10...     2023   \n",
       "578397  Bird damage can be a serious problem for grain...     2023   \n",
       "578398  The device of a railway train for the detectio...     2023   \n",
       "578399  The intelligent water and fluid consumption co...     2023   \n",
       "578400  The present invention relates to an intelligen...     2023   \n",
       "\n",
       "                                             CombinedText  \\\n",
       "0       with expert system for process control capabil...   \n",
       "1       parallel neural network for a full binary adde...   \n",
       "2       method and apparatus for tracking, mapping and...   \n",
       "3       unit circuit for constructing a neural network...   \n",
       "4       overflow speech detecting apparatus for speech...   \n",
       "...                                                   ...   \n",
       "578396  a system and method for fire detection. the pr...   \n",
       "578397  an intelligent electronic system to fight agai...   \n",
       "578398  railway train equipment for object detection a...   \n",
       "578399  intelligent water and fluid consumption contro...   \n",
       "578400  an intelligent and autonomous pivot for fertig...   \n",
       "\n",
       "                                         LemmatizedTokens  \n",
       "0       [expert, system, process, control, capability,...  \n",
       "1       [parallel, neural, network, binary, adder, met...  \n",
       "2       [method, apparatus, tracking, mapping, recogni...  \n",
       "3       [unit, circuit, construct, neural, network, se...  \n",
       "4       [overflow, speech, detect, apparatus, speech, ...  \n",
       "...                                                   ...  \n",
       "578396  [system, method, fire, detection, present, dis...  \n",
       "578397  [intelligent, electronic, system, fight, bird,...  \n",
       "578398  [railway, train, equipment, object, detection,...  \n",
       "578399  [intelligent, water, fluid, consumption, contr...  \n",
       "578400  [intelligent, autonomous, pivot, fertigation, ...  \n",
       "\n",
       "[578401 rows x 7 columns]"
      ]
     },
     "execution_count": 19,
     "metadata": {},
     "output_type": "execute_result"
    }
   ],
   "source": [
    "df"
   ]
  },
  {
   "cell_type": "markdown",
   "id": "66683cfa-24e9-4963-a738-2c3c800f945f",
   "metadata": {},
   "source": [
    "# Bigrams"
   ]
  },
  {
   "cell_type": "code",
   "execution_count": 20,
   "id": "5821150e-a57f-4539-a919-d1a1a4418a40",
   "metadata": {},
   "outputs": [],
   "source": [
    "from nltk.collocations import BigramCollocationFinder\n",
    "from nltk.metrics import BigramAssocMeasures"
   ]
  },
  {
   "cell_type": "code",
   "execution_count": 21,
   "id": "6facae73-7909-4ec5-8821-d014dbefc203",
   "metadata": {},
   "outputs": [],
   "source": [
    "all_tokens = list(chain.from_iterable(no_low_tokens))"
   ]
  },
  {
   "cell_type": "code",
   "execution_count": 22,
   "id": "c5d3e785-c93e-40ae-bfca-9fb907d59bd7",
   "metadata": {},
   "outputs": [],
   "source": [
    "bigram_finder = BigramCollocationFinder.from_words(all_tokens)\n",
    "bigram_finder.apply_freq_filter(3)  # Filter bigrams that occur less than 3 times\n",
    "bigrams = bigram_finder.nbest(BigramAssocMeasures.likelihood_ratio, 200)"
   ]
  },
  {
   "cell_type": "code",
   "execution_count": 29,
   "id": "59f61ebf-e2ae-446b-8840-a98e3a22e07f",
   "metadata": {},
   "outputs": [
    {
     "data": {
      "text/plain": [
       "[('neural', 'network'),\n",
       " ('present', 'invention'),\n",
       " ('artificial', 'intelligence'),\n",
       " ('machine', 'learning'),\n",
       " ('storage', 'medium'),\n",
       " ('invention', 'relate'),\n",
       " ('real', 'time'),\n",
       " ('invention', 'disclose'),\n",
       " ('unmanned', 'aerial'),\n",
       " ('method', 'comprise'),\n",
       " ('deep', 'learning'),\n",
       " ('system', 'method'),\n",
       " ('machine', 'learn'),\n",
       " ('following', 'step'),\n",
       " ('aerial', 'vehicle'),\n",
       " ('present', 'disclosure'),\n",
       " ('comprise', 'step'),\n",
       " ('method', 'apparatus'),\n",
       " ('computer', 'readable'),\n",
       " ('convolutional', 'neural'),\n",
       " ('comprise', 'following'),\n",
       " ('speech', 'recognition'),\n",
       " ('electronic', 'device'),\n",
       " ('learning', 'model'),\n",
       " ('natural', 'language'),\n",
       " ('invention', 'provide'),\n",
       " ('technical', 'field'),\n",
       " ('computer', 'program'),\n",
       " ('method', 'include'),\n",
       " ('embodiment', 'present'),\n",
       " ('method', 'system'),\n",
       " ('feature', 'vector'),\n",
       " ('readable', 'storage'),\n",
       " ('method', 'device'),\n",
       " ('accord', 'embodiment'),\n",
       " ('time', 'series'),\n",
       " ('point', 'cloud'),\n",
       " ('computer', 'implement'),\n",
       " ('feature', 'extraction'),\n",
       " ('follow', 'step'),\n",
       " ('user', 'interface'),\n",
       " ('genetic', 'algorithm'),\n",
       " ('prior', 'art'),\n",
       " ('method', 'base'),\n",
       " ('reinforcement', 'learning'),\n",
       " ('motor', 'vehicle'),\n",
       " ('compute', 'device'),\n",
       " ('program', 'product'),\n",
       " ('problem', 'solve'),\n",
       " ('voice', 'recognition'),\n",
       " ('far', 'include'),\n",
       " ('internet', 'thing'),\n",
       " ('fuel', 'cell'),\n",
       " ('comprise', 'follow'),\n",
       " ('datum', 'set'),\n",
       " ('image', 'processing'),\n",
       " ('method', 'thereof'),\n",
       " ('autonomous', 'vehicle'),\n",
       " ('information', 'processing'),\n",
       " ('control', 'unit'),\n",
       " ('non', 'transitory'),\n",
       " ('network', 'model'),\n",
       " ('decision', 'tree'),\n",
       " ('unit', 'configure'),\n",
       " ('readable', 'medium'),\n",
       " ('license', 'plate'),\n",
       " ('artificial', 'neural'),\n",
       " ('solve', 'problem'),\n",
       " ('belong', 'technical'),\n",
       " ('threshold', 'value'),\n",
       " ('training', 'datum'),\n",
       " ('prediction', 'model'),\n",
       " ('processing', 'unit'),\n",
       " ('human', 'body'),\n",
       " ('feature', 'map'),\n",
       " ('wireless', 'communication'),\n",
       " ('early', 'warning'),\n",
       " ('processing', 'method'),\n",
       " ('system', 'include'),\n",
       " ('disclosure', 'relate'),\n",
       " ('detection', 'method'),\n",
       " ('autonomous', 'driving'),\n",
       " ('acquisition', 'unit'),\n",
       " ('support', 'vector'),\n",
       " ('region', 'interest'),\n",
       " ('mobile', 'robot'),\n",
       " ('augment', 'reality'),\n",
       " ('generative', 'adversarial'),\n",
       " ('capture', 'image'),\n",
       " ('loss', 'function'),\n",
       " ('magnetic', 'resonance'),\n",
       " ('control', 'system'),\n",
       " ('time', 'period'),\n",
       " ('processor', 'configure'),\n",
       " ('relate', 'technical'),\n",
       " ('embodiment', 'invention'),\n",
       " ('control', 'method'),\n",
       " ('include', 'receive'),\n",
       " ('parking', 'space'),\n",
       " ('audio', 'signal'),\n",
       " ('remote', 'sense'),\n",
       " ('electronic', 'equipment'),\n",
       " ('fault', 'diagnosis'),\n",
       " ('management', 'system'),\n",
       " ('training', 'sample'),\n",
       " ('deep', 'neural'),\n",
       " ('target', 'object'),\n",
       " ('medical', 'image'),\n",
       " ('configure', 'receive'),\n",
       " ('user', 'terminal'),\n",
       " ('fuzzy', 'logic'),\n",
       " ('power', 'supply'),\n",
       " ('implement', 'method'),\n",
       " ('big', 'datum'),\n",
       " ('bounding', 'box'),\n",
       " ('short', 'term'),\n",
       " ('device', 'storage'),\n",
       " ('transitory', 'computer'),\n",
       " ('accord', 'present'),\n",
       " ('method', 'far'),\n",
       " ('present', 'application'),\n",
       " ('drawing', 'fig'),\n",
       " ('image', 'datum'),\n",
       " ('random', 'forest'),\n",
       " ('system', 'comprise'),\n",
       " ('apparatus', 'method'),\n",
       " ('extract', 'feature'),\n",
       " ('question', 'answer'),\n",
       " ('processing', 'apparatus'),\n",
       " ('equipment', 'storage'),\n",
       " ('drawing', 'figure'),\n",
       " ('learn', 'model'),\n",
       " ('recognition', 'result'),\n",
       " ('energy', 'consumption'),\n",
       " ('particle', 'swarm'),\n",
       " ('learning', 'algorithm'),\n",
       " ('path', 'planning'),\n",
       " ('pre', 'train'),\n",
       " ('step', 'acquire'),\n",
       " ('processing', 'device'),\n",
       " ('character', 'string'),\n",
       " ('large', 'scale'),\n",
       " ('video', 'frame'),\n",
       " ('intelligence', 'ai'),\n",
       " ('mobile', 'terminal'),\n",
       " ('mobile', 'device'),\n",
       " ('base', 'deep'),\n",
       " ('light', 'source'),\n",
       " ('high', 'resolution'),\n",
       " ('knowledge', 'graph'),\n",
       " ('use', 'machine'),\n",
       " ('air', 'conditioner'),\n",
       " ('step', 'firstly'),\n",
       " ('step', 'obtain'),\n",
       " ('voice', 'command'),\n",
       " ('face', 'image'),\n",
       " ('disclosure', 'provide'),\n",
       " ('super', 'resolution'),\n",
       " ('obstacle', 'avoidance'),\n",
       " ('recording', 'medium'),\n",
       " ('web', 'page'),\n",
       " ('recognition', 'method'),\n",
       " ('wind', 'turbine'),\n",
       " ('language', 'processing'),\n",
       " ('power', 'consumption'),\n",
       " ('recurrent', 'neural'),\n",
       " ('driver', 'assistance'),\n",
       " ('model', 'train'),\n",
       " ('relate', 'method'),\n",
       " ('improve', 'accuracy'),\n",
       " ('objective', 'function'),\n",
       " ('attention', 'mechanism'),\n",
       " ('blood', 'vessel'),\n",
       " ('training', 'set'),\n",
       " ('vector', 'machine'),\n",
       " ('nucleic', 'acid'),\n",
       " ('apparatus', 'include'),\n",
       " ('disclose', 'method'),\n",
       " ('control', 'device'),\n",
       " ('input', 'datum'),\n",
       " ('belong', 'field'),\n",
       " ('face', 'recognition'),\n",
       " ('main', 'body'),\n",
       " ('content', 'item'),\n",
       " ('sensor', 'datum'),\n",
       " ('anomaly', 'detection'),\n",
       " ('train', 'machine'),\n",
       " ('computer', 'vision'),\n",
       " ('use', 'artificial'),\n",
       " ('key', 'point'),\n",
       " ('model', 'obtain'),\n",
       " ('determination', 'unit'),\n",
       " ('self', 'adaptive'),\n",
       " ('train', 'neural'),\n",
       " ('image', 'capture'),\n",
       " ('human', 'face'),\n",
       " ('base', 'station'),\n",
       " ('virtual', 'reality'),\n",
       " ('identification', 'method'),\n",
       " ('feature', 'point')]"
      ]
     },
     "execution_count": 29,
     "metadata": {},
     "output_type": "execute_result"
    }
   ],
   "source": [
    "bigrams"
   ]
  },
  {
   "cell_type": "code",
   "execution_count": 28,
   "id": "3a19f9da-47a6-4769-93ed-9e1c2fb0e8e2",
   "metadata": {},
   "outputs": [],
   "source": [
    "#manual list, not ideal but ok\n",
    "bad_bigrams =[\n",
    "    ('accord', 'embodiment'),\n",
    "    ('accord', 'present'),\n",
    "    ('apparatus', 'include'),\n",
    "    ('belong', 'field'),\n",
    "    ('comprise', 'follow'),\n",
    "    ('comprise', 'following'),\n",
    "    ('configure', 'receive'),\n",
    "    ('disclosure', 'provide'),\n",
    "    ('disclosure', 'relate'),\n",
    "    ('embodiment', 'present'),\n",
    "    ('far', 'include'),\n",
    "    ('implement', 'method'),\n",
    "    ('include', 'receive'),\n",
    "    ('invention', 'disclose'),\n",
    "    ('invention', 'provide'),\n",
    "    ('invention', 'relate'),\n",
    "    ('method', 'apparatus'),\n",
    "    ('method', 'comprise'),\n",
    "    ('method', 'include'),\n",
    "    ('method', 'thereof'),\n",
    "    ('present', 'application'),\n",
    "    ('present', 'disclosure'),\n",
    "    ('present', 'invention'),\n",
    "    ('question', 'answer'),\n",
    "    ('relate', 'method'),\n",
    "    ('solve', 'problem'),\n",
    "    ('step', 'acquire'),\n",
    "    ('step', 'firstly'),\n",
    "    ('step', 'obtain'),\n",
    "    ('system', 'include'),\n",
    "    ('use', 'artificial'),\n",
    "    ('use', 'machine')\n",
    "]"
   ]
  },
  {
   "cell_type": "code",
   "execution_count": 31,
   "id": "66a5c948-8a19-474e-a6c0-5c5b9da45e91",
   "metadata": {},
   "outputs": [
    {
     "data": {
      "text/plain": [
       "168"
      ]
     },
     "execution_count": 31,
     "metadata": {},
     "output_type": "execute_result"
    }
   ],
   "source": [
    "final_bigrams = list(set(bigrams) - set(bad_bigrams))\n",
    "len(final_bigrams)"
   ]
  },
  {
   "cell_type": "code",
   "execution_count": 32,
   "id": "7bce9892-a46a-41d6-9950-8b0ababfe1ee",
   "metadata": {},
   "outputs": [],
   "source": [
    "def detect_bigrams(text, bigrams_set):\n",
    "    combined_text = []\n",
    "    i = 0\n",
    "    text_len = len(text)\n",
    "\n",
    "    skip = False\n",
    "    while i < text_len:\n",
    "        if i < text_len - 1 and (text[i], text[i + 1]) in bigrams_set:\n",
    "            combined_text.append(f\"{text[i]}_{text[i + 1]}\")\n",
    "            i += 1\n",
    "            skip = True\n",
    "        else:\n",
    "            if skip == True:\n",
    "                i+=1\n",
    "                skip = False\n",
    "            else:\n",
    "                combined_text.append(text[i])\n",
    "                i += 1\n",
    "    return combined_text"
   ]
  },
  {
   "cell_type": "code",
   "execution_count": 34,
   "id": "edc4ed31-2069-435b-86d7-24905f6873b5",
   "metadata": {},
   "outputs": [
    {
     "name": "stdout",
     "output_type": "stream",
     "text": [
      "['unmanned', 'aerial', 'vehicle', 'neural', 'neural', 'network', 'network']\n",
      "['unmanned_aerial', 'aerial_vehicle', 'neural', 'neural_network', 'network']\n"
     ]
    }
   ],
   "source": [
    "text_sample = ['unmanned', 'aerial', 'vehicle', 'neural', 'neural', 'network','network']\n",
    "\n",
    "print(text_sample)\n",
    "print(detect_bigrams(text_sample,final_bigrams))"
   ]
  },
  {
   "cell_type": "code",
   "execution_count": 35,
   "id": "9c8d64ca-6b7c-464b-9a18-d54bbc3740fb",
   "metadata": {},
   "outputs": [
    {
     "data": {
      "application/vnd.jupyter.widget-view+json": {
       "model_id": "44e0eed82385449594c1b724ae3dde90",
       "version_major": 2,
       "version_minor": 0
      },
      "text/plain": [
       "  0%|          | 0/578401 [00:00<?, ?it/s]"
      ]
     },
     "metadata": {},
     "output_type": "display_data"
    }
   ],
   "source": [
    "bigrams_set = set(final_bigrams)\n",
    "df['BigramsTokens'] = df['LemmatizedTokens'].progress_apply(lambda x: detect_bigrams(x, bigrams_set))"
   ]
  },
  {
   "cell_type": "code",
   "execution_count": 36,
   "id": "f589e80c-f14d-47db-975c-8c79d5286705",
   "metadata": {},
   "outputs": [],
   "source": [
    "df.to_csv('data/Cleaned_Patents.csv',index=False)"
   ]
  },
  {
   "cell_type": "code",
   "execution_count": null,
   "id": "6c631b7b-ffc7-4e7b-a350-51d9b3ac0436",
   "metadata": {},
   "outputs": [],
   "source": []
  }
 ],
 "metadata": {
  "kernelspec": {
   "display_name": "Python 3 (ipykernel)",
   "language": "python",
   "name": "python3"
  },
  "language_info": {
   "codemirror_mode": {
    "name": "ipython",
    "version": 3
   },
   "file_extension": ".py",
   "mimetype": "text/x-python",
   "name": "python",
   "nbconvert_exporter": "python",
   "pygments_lexer": "ipython3",
   "version": "3.12.2"
  }
 },
 "nbformat": 4,
 "nbformat_minor": 5
}
